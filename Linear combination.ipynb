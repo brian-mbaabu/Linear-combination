{
 "cells": [
  {
   "cell_type": "code",
   "execution_count": 4,
   "metadata": {},
   "outputs": [],
   "source": [
    "#Determining a vector's span computationally using NumPy's linear algebra subpackage linalg.\n",
    "\n",
    "#Importing numpy\n",
    "import numpy as np"
   ]
  },
  {
   "cell_type": "code",
   "execution_count": 8,
   "metadata": {},
   "outputs": [
    {
     "name": "stdout",
     "output_type": "stream",
     "text": [
      "[ 4 11]\n",
      "[[1 2]\n",
      " [3 5]]\n"
     ]
    }
   ],
   "source": [
    "# Creates matrix v (right side of the augmented matrix).\n",
    "v = np.array([4, 11])\n",
    "\n",
    "# Creates matrix vw (left side of the augmented matrix).\n",
    "x = np.array([[1, 2], [3, 5]])\n",
    "\n",
    "print(v)\n",
    "print(x)"
   ]
  },
  {
   "cell_type": "code",
   "execution_count": 45,
   "metadata": {},
   "outputs": [],
   "source": [
    "#Creating check_vector_span function using NumPy's linalg.solve function to check if vector v  \n",
    "#is within the span of the other two vectors in x.\n",
    "\n",
    "def check_vector_span(set_of_vectors, vectors_to_check):\n",
    "    # Creates an empty vector of correct size\n",
    "    vector_of_scalars = np.asarray([None]*set_of_vectors.shape[0])\n",
    "    \n",
    "    try:\n",
    "        vector_of_scalars = np.linalg.solve(set_of_vectors, vectors_to_check)\n",
    "        if not(vector_of_scalars is None):\n",
    "            print(\"Vectors exist within span.\\nScalar in s:\", vector_of_scalars)\n",
    "    # Handles the cases when the vector is NOT within the span\n",
    "    except Exception as exception_type:\n",
    "        if str(exception_type) == \"Singular matrix\":\n",
    "            print(\"\\nNo single solution\\nVector is NOT within span\")\n",
    "        else:\n",
    "            print(\"Unexpected error:\", exception_type)\n",
    "    return vector_of_scalars\n",
    "        "
   ]
  },
  {
   "cell_type": "code",
   "execution_count": 46,
   "metadata": {},
   "outputs": [
    {
     "name": "stdout",
     "output_type": "stream",
     "text": [
      "Equation 1:\n",
      " Matrix 1:\n",
      " [[1 2]\n",
      " [3 5]] \n",
      "Vectors:\n",
      " [ 4 11]\n",
      "Vectors exist within span.\n",
      "Scalar in s: [2. 1.]\n"
     ]
    }
   ],
   "source": [
    "print(\"Equation 1:\\n Matrix 1:\\n\", x, \"\\nVectors:\\n\", v)\n",
    "result = check_vector_span(x, v)"
   ]
  },
  {
   "cell_type": "code",
   "execution_count": 48,
   "metadata": {},
   "outputs": [
    {
     "name": "stdout",
     "output_type": "stream",
     "text": [
      "\n",
      "Matrix x2:\n",
      "[[1 2]\n",
      " [2 4]]\n",
      "\n",
      "Vectors:\n",
      "[ 6 12]\n",
      "\n",
      "No single solution\n",
      "Vector is NOT within span\n"
     ]
    }
   ],
   "source": [
    "v2 = np.array([6, 12])\n",
    "\n",
    "x2 = np.array([[1, 2], [2, 4]])\n",
    "\n",
    "print(\"\\nMatrix x2:\", x2, \"\\nVectors:\", v2, sep=\"\\n\")\n",
    "result = check_vector_span(x2, v2)"
   ]
  },
  {
   "cell_type": "code",
   "execution_count": null,
   "metadata": {},
   "outputs": [],
   "source": []
  },
  {
   "cell_type": "code",
   "execution_count": null,
   "metadata": {},
   "outputs": [],
   "source": []
  }
 ],
 "metadata": {
  "kernelspec": {
   "display_name": "Python 3",
   "language": "python",
   "name": "python3"
  },
  "language_info": {
   "codemirror_mode": {
    "name": "ipython",
    "version": 3
   },
   "file_extension": ".py",
   "mimetype": "text/x-python",
   "name": "python",
   "nbconvert_exporter": "python",
   "pygments_lexer": "ipython3",
   "version": "3.7.6"
  }
 },
 "nbformat": 4,
 "nbformat_minor": 4
}
